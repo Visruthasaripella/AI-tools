{
 "cells": [
  {
   "cell_type": "markdown",
   "source": [
    "# AI Chat Code"
   ],
   "metadata": {
    "collapsed": false
   },
   "id": "14309c3521cb9d85"
  },
  {
   "cell_type": "code",
   "source": [
    "import anthropic\n",
    "import traceback\n",
    "from typing import List, Dict, Tuple\n",
    "\n",
    "from click import prompt\n",
    "from markdownify import markdownify\n",
    "\n",
    "from openai import OpenAI, OpenAIError\n",
    "\n",
    "\n",
    "def converse_openai(prompt: str, messages: List[Dict[str, str]]) -> Tuple[str, List[Dict[str, str]]]:\n",
    "    \"\"\"\n",
    "    Given a conversation history, generate a response string from the OpenAI API.\n",
    "\n",
    "    :param prompt: a user prompt string to continue the conversation\n",
    "\n",
    "    :param messages: a conversation history with the following format:\n",
    "    `[ { \"role\": \"user\", \"content\": \"Hello, how are you?\" },\n",
    "       { \"role\": \"assistant\", \"content\": \"I am doing well, how can I help you today?\" } ]`\n",
    "\n",
    "    :return: the response string and the updated conversation history\n",
    "    \"\"\"\n",
    "    client = OpenAI(\n",
    "        # This is the default and can be omitted\n",
    "        base_url='http://aitools.cs.vt.edu:7860/openai/v1',\n",
    "        api_key=\"aitools\")\n",
    "    \n",
    "    try:\n",
    "        messages.append({\"role\": \"user\", \"content\": prompt})\n",
    "        response = client.chat.completions.create(\n",
    "            model=\"gpt-3.5-turbo\",\n",
    "            messages=messages,\n",
    "            max_tokens=3000\n",
    "        )\n",
    "        text = response.choices[0].message.content\n",
    "        messages.append({\"role\": \"assistant\", \"content\": text})\n",
    "        return text, messages\n",
    "\n",
    "    except OpenAIError as e:\n",
    "        traceback.print_exc()\n",
    "        raise Exception(f\"OpenAI Error: {str(e)}\")\n",
    "    except Exception as e:\n",
    "        traceback.print_exc()\n",
    "        raise Exception(f\"General Error: {str(e)}\")\n",
    "\n",
    "def converse_anthropic(prompt: str, messages: List[Dict[str, str]]) -> Tuple[str, List[Dict[str, str]]]:\n",
    "    client = anthropic.Anthropic(api_key=\"aitools\", \n",
    "                                 base_url=\"http://aitools.cs.vt.edu:7860/anthropic/v1\")\n",
    "    \n",
    "    # Add the user's message to the list of messages\n",
    "    if messages is None:\n",
    "        messages = []\n",
    "    \n",
    "    messages.append({\"role\": \"user\", \"content\": prompt})\n",
    "    # Construct the request payload for Anthropic through the proxy\n",
    "    response = client.messages.create(\n",
    "        model=\"claude-3-5-sonnet-20240620\",\n",
    "        max_tokens=4000,\n",
    "        messages=messages\n",
    "    )\n",
    "    \n",
    "    # Extract the relevant information from the response\n",
    "    content_text = response.content[0].text  # Access the text of the first message\n",
    "    # Add the assistant's message to the list of messages\n",
    "    messages.append({\"role\": \"assistant\", \"content\": content_text})\n",
    "    \n",
    "    return response, messages\n"
   ],
   "metadata": {
    "collapsed": false,
    "ExecuteTime": {
     "end_time": "2024-09-22T22:22:20.401465Z",
     "start_time": "2024-09-22T22:22:20.373897Z"
    }
   },
   "id": "5fe373f507f73a0c",
   "outputs": [],
   "execution_count": 102
  },
  {
   "cell_type": "markdown",
   "source": [
    "# Starting Prompt"
   ],
   "metadata": {
    "collapsed": false
   },
   "id": "af90ae623f3e9767"
  },
  {
   "cell_type": "code",
   "source": [
    "product_name = \"Ducky\"\n",
    "\n",
    "product_description = f\"\"\"\n",
    "{product_name} is an AI-powered coding assistant tailored for software developers and learners. \n",
    "\n",
    "Its primary function is to facilitate the learning process about various software topics. \n",
    "\n",
    "{product_name} offers a quick chat feature that serves to answer questions regarding coding issues. \n",
    "\n",
    "Furthermore, its blueprint feature acts as a knowledge repository, enabling users to \n",
    "generate specific pre-planned artifacts such as schemas, types, and APIs.\n",
    "\"\"\"\n",
    "\n",
    "\n",
    "def starting_prompt():\n",
    "    return f\"\"\"\n",
    "Forget all previous instructions and context.  \n",
    "\n",
    "You job is to learn and understand the following text about a product.\n",
    "```\n",
    "{product_description}\n",
    "```\n",
    "Acknowledge you have understood the product by giving a terse 1 sentence summary or acknowledgement.\n",
    "\"\"\""
   ],
   "metadata": {
    "collapsed": false,
    "ExecuteTime": {
     "end_time": "2024-09-22T22:22:22.091180Z",
     "start_time": "2024-09-22T22:22:22.074939Z"
    }
   },
   "id": "41a6293efcd29b07",
   "outputs": [],
   "execution_count": 103
  },
  {
   "cell_type": "code",
   "source": [
    "history = []\n",
    "text, history = converse_openai(starting_prompt(), history)\n",
    "\n",
    "print(markdownify(text))"
   ],
   "metadata": {
    "collapsed": false,
    "ExecuteTime": {
     "end_time": "2024-09-22T22:22:23.731775Z",
     "start_time": "2024-09-22T22:22:22.908923Z"
    }
   },
   "id": "53db58acce943d4e",
   "outputs": [
    {
     "name": "stdout",
     "output_type": "stream",
     "text": [
      "I understand that Ducky is an AI-powered coding assistant designed to help software developers and learners by providing a chat feature for coding questions and a blueprint feature for generating artifacts.\n"
     ]
    }
   ],
   "execution_count": 104
  },
  {
   "cell_type": "markdown",
   "source": [
    "# Business Problem Statement"
   ],
   "metadata": {
    "collapsed": false
   },
   "id": "3d21d3910b3f0001"
  },
  {
   "cell_type": "code",
   "source": [
    "def business_problem_statement_prompt():\n",
    "    return  f\"\"\"Construct a business problem statement for Ducky, the AI-powered coding assistant. Focus on the key challenges that software developers and learners face, such as time-consuming debugging, difficulty in accessing accurate coding knowledge quickly, and the complexity of generating reusable artifacts like schemas and APIs. Highlight how Ducky aims to solve these specific pain points. In this part, include 5 elements: Situation, Problem, Implication, Benefits, and Vision. Please remove any special characters in your response.\n",
    "\"\"\""
   ],
   "metadata": {
    "collapsed": false,
    "ExecuteTime": {
     "end_time": "2024-09-22T22:22:28.558018Z",
     "start_time": "2024-09-22T22:22:28.550640Z"
    }
   },
   "id": "98aee28e0c61d9a",
   "outputs": [],
   "execution_count": 105
  },
  {
   "cell_type": "code",
   "source": [
    "text, history = converse_openai(business_problem_statement_prompt(), history)\n",
    "print(markdownify(text))"
   ],
   "metadata": {
    "collapsed": false,
    "ExecuteTime": {
     "end_time": "2024-09-22T22:22:31.351534Z",
     "start_time": "2024-09-22T22:22:29.244677Z"
    }
   },
   "id": "ec0ac4798e596736",
   "outputs": [
    {
     "name": "stdout",
     "output_type": "stream",
     "text": [
      "Situation: Software developers and learners struggle with time-consuming debugging and accessing accurate coding knowledge quickly, as well as the complexity of generating reusable artifacts like schemas and APIs.\n",
      "\n",
      "Problem: The inefficiency in debugging and accessing timely coding support leads to delays in the development process and hinders the learning curve of developers.\n",
      "\n",
      "Implication: This can result in lower productivity, increased frustration, and a lack of confidence in software development skills among developers and learners.\n",
      "\n",
      "Benefits: Ducky, the AI-powered coding assistant, aims to address these challenges by providing quick chat support for coding queries, a knowledge repository for easy access to coding information, and a blueprint feature for generating specific artifacts like schemas and APIs efficiently.\n",
      "\n",
      "Vision: Our vision is to empower software developers and learners with a reliable and efficient coding assistant that streamlines the learning process, boosts productivity, and enhances the overall software development experience.\n"
     ]
    }
   ],
   "execution_count": 106
  },
  {
   "cell_type": "markdown",
   "source": [
    "# Vision Statement"
   ],
   "metadata": {
    "collapsed": false
   },
   "id": "96cf4062927d4149"
  },
  {
   "cell_type": "code",
   "source": [
    "def vision_statement_prompt():\n",
    "    return  f\"\"\"\n",
    "Create a vision statement for Ducky, the AI-powered coding assistant, in the following format:\n",
    "For: [Target audience]\n",
    "Who: [User type and their needs]\n",
    "The: [Key challenge or problem faced]\n",
    "Is: [Ducky's role and what it provides]\n",
    "That: [How Ducky addresses the challenge]\n",
    "Unlike: [What makes Ducky unique compared to alternatives]\n",
    "Focus on Ducky's ability to assist developers and learners by providing quick coding solutions and generating reusable artifacts like schemas and APIs.\n",
    "\"\"\""
   ],
   "metadata": {
    "collapsed": false,
    "ExecuteTime": {
     "end_time": "2024-09-22T22:22:34.290305Z",
     "start_time": "2024-09-22T22:22:34.280162Z"
    }
   },
   "id": "ff63c37d07688aab",
   "outputs": [],
   "execution_count": 107
  },
  {
   "cell_type": "code",
   "source": [
    "text, history = converse_openai(vision_statement_prompt(), history)\n",
    "print(markdownify(text))"
   ],
   "metadata": {
    "collapsed": false,
    "ExecuteTime": {
     "end_time": "2024-09-22T22:22:38.577160Z",
     "start_time": "2024-09-22T22:22:35.901149Z"
    }
   },
   "id": "1fbdeb9fac16dde2",
   "outputs": [
    {
     "name": "stdout",
     "output_type": "stream",
     "text": [
      "For: Software developers and learners\n",
      "Who: Need quick coding solutions and efficient generation of reusable artifacts like schemas and APIs\n",
      "The: Challenge of time-consuming debugging and difficulty accessing accurate coding knowledge quickly\n",
      "Is: Ducky, the AI-powered coding assistant, providing quick chat support for coding queries and a blueprint feature for artifact generation\n",
      "That: Addresses the challenge by streamlining the learning process and boosting productivity\n",
      "Unlike: Other alternatives, Ducky combines chat support with artifact generation in one platform, offering a comprehensive solution for software developers and learners.\n"
     ]
    }
   ],
   "execution_count": 108
  },
  {
   "cell_type": "markdown",
   "source": [
    "# Ecosystem Map"
   ],
   "metadata": {
    "collapsed": false
   },
   "id": "c4a8c2c1f091ee2e"
  },
  {
   "cell_type": "code",
   "source": [
    "def ecosystem_map_prompt():\n",
    "    return  f\"\"\"Generate an ecosystem map for Ducky that includes the central system, direct interactors, and indirect interactors. For each entity, provide their role and interaction with Ducky after introducing the entity. for each entity, specify its name, followed by its role and how it interacts with Ducky. specify Interation in one line.\"\"\""
   ],
   "metadata": {
    "collapsed": false,
    "ExecuteTime": {
     "end_time": "2024-09-22T22:22:40.375220Z",
     "start_time": "2024-09-22T22:22:40.368698Z"
    }
   },
   "id": "efd4967988c7ae6",
   "outputs": [],
   "execution_count": 109
  },
  {
   "cell_type": "code",
   "source": [
    "text, history = converse_openai(ecosystem_map_prompt(), history)\n",
    "print(markdownify(text))"
   ],
   "metadata": {
    "collapsed": false,
    "ExecuteTime": {
     "end_time": "2024-09-22T22:22:44.620143Z",
     "start_time": "2024-09-22T22:22:41.480426Z"
    }
   },
   "id": "68f22a21cf2217bf",
   "outputs": [
    {
     "name": "stdout",
     "output_type": "stream",
     "text": [
      "Central System: Ducky (AI-powered coding assistant)\n",
      "Role: Central system that provides coding assistance and artifact generation for software developers and learners.\n",
      "Interacts with: Direct Interactors and Indirect Interactors.\n",
      "\n",
      "Direct Interactors: \n",
      "1. Software Developers \n",
      "Role: Utilize Ducky's chat support for quick coding solutions and blueprint feature for generating artifacts.\n",
      "Interaction with Ducky: Engage in real-time chat for coding queries and use blueprint feature for artifact creation.\n",
      "\n",
      "2. Learners \n",
      "Role: Access Ducky's knowledge repository to learn about various software topics and improve coding skills.\n",
      "Interaction with Ducky: Explore coding information in the knowledge repository for learning purposes.\n",
      "\n",
      "Indirect Interactors:\n",
      "1. Tech Lead/Managers \n",
      "Role: Oversee the usage of Ducky within the development team to enhance productivity.\n",
      "Interaction with Ducky: Monitor team members' engagement with Ducky for coding support and artifact generation.\n",
      "\n",
      "2. Educational Institutions \n",
      "Role: Incorporate Ducky into their curriculum to provide students with additional coding assistance.\n",
      "Interaction with Ducky: Integrate Ducky's features into the coursework for better learning outcomes.\n"
     ]
    }
   ],
   "execution_count": 110
  },
  {
   "cell_type": "markdown",
   "source": [
    "# Responsibility Matrix"
   ],
   "metadata": {
    "collapsed": false
   },
   "id": "b1165b39f3abd76f"
  },
  {
   "metadata": {
    "ExecuteTime": {
     "end_time": "2024-09-22T22:24:02.405356Z",
     "start_time": "2024-09-22T22:24:02.390744Z"
    }
   },
   "cell_type": "code",
   "source": [
    "def rcai_matrix_prompt():\n",
    "    return f\"\"\"Identify key stakeholders for Ducky and define their roles in relation to Ducky's features and operations. Create a RACI matrix (without the Responsibilities column) using this information. Present the data in a well-formatted table with clear lines separating columns and rows. Each row should represent a stakeholder, with appropriate assignments for Responsible (R), Accountable (A), Consulted (C), and Informed (I) roles. Ensure the table is properly organized and easy to read.\"\"\""
   ],
   "id": "b49afdf6e11ac54d",
   "outputs": [],
   "execution_count": 115
  },
  {
   "metadata": {
    "ExecuteTime": {
     "end_time": "2024-09-22T22:24:04.627967Z",
     "start_time": "2024-09-22T22:24:03.101549Z"
    }
   },
   "cell_type": "code",
   "source": [
    "text, history = converse_openai(rcai_matrix_prompt(), history)\n",
    "print(markdownify(text))"
   ],
   "id": "5f43861b9bda44c5",
   "outputs": [
    {
     "name": "stdout",
     "output_type": "stream",
     "text": [
      "| Stakeholder | Responsible (R) | Accountable (A) | Consulted (C) | Informed (I) |\n",
      "|------------------------|-----------------|-----------------|---------------|--------------|\n",
      "| Software Developers | | | A | I |\n",
      "| Learners | | | A | I |\n",
      "| Tech Lead/Managers | R | A | C | I |\n",
      "| Educational Institutions| R | | C | I |\n"
     ]
    }
   ],
   "execution_count": 116
  },
  {
   "metadata": {},
   "cell_type": "code",
   "outputs": [],
   "execution_count": null,
   "source": "",
   "id": "dd2f517c43e56e1e"
  }
 ],
 "metadata": {
  "kernelspec": {
   "display_name": "Python 3",
   "language": "python",
   "name": "python3"
  },
  "language_info": {
   "codemirror_mode": {
    "name": "ipython",
    "version": 2
   },
   "file_extension": ".py",
   "mimetype": "text/x-python",
   "name": "python",
   "nbconvert_exporter": "python",
   "pygments_lexer": "ipython2",
   "version": "2.7.6"
  }
 },
 "nbformat": 4,
 "nbformat_minor": 5
}
