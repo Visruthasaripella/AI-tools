{
 "cells": [
  {
   "cell_type": "markdown",
   "source": [
    "<img src=\"banner.png\" width=\"100%\">\n",
    "<br>\n",
    "\n",
    "To establish your OpenAI connection, run the first two cells.\n",
    "<br>\n",
    "To export your chat:\n",
    "* use File | Download As and\n",
    "  * choose Jupyter Notebook format (.ipynb) or\n",
    "  * choose Markdown format (.md) depending on your needs."
   ],
   "metadata": {
    "collapsed": false
   }
  },
  {
   "cell_type": "code",
   "source": [
    "from pyexpat.errors import messages\n",
    "\n",
    "from openai import OpenAI\n",
    "\n",
    "client = OpenAI(\n",
    "    # This is the default and can be omitted\n",
    "\tbase_url = 'http://aitools.cs.vt.edu:7860/openai/v1',\n",
    "    api_key=\"aitools\"\n",
    ")"
   ],
   "metadata": {
    "collapsed": false,
    "ExecuteTime": {
     "end_time": "2024-09-15T02:24:58.023886Z",
     "start_time": "2024-09-15T02:24:56.684639Z"
    }
   },
   "outputs": [],
   "execution_count": 1
  },
  {
   "cell_type": "code",
   "source": [
    "def get_completion(prompt, \n",
    "\t\t\t\t   model=\"gpt-3.5-turbo\", \n",
    "\t\t\t\t   max_tokens=4000):\n",
    "\t\n",
    "\tmessages = [{\"role\": \"user\", \"content\": prompt}]\n",
    "\n",
    "\tresponse = client.chat.completions.create(\n",
    "                messages=messages,\n",
    "                model=model,\n",
    "                max_tokens=max_tokens,\n",
    "\t\t        temperature=0)  # this is the degree of randomness of the model's output\n",
    "\t\n",
    "\treturn response.choices[0].message.content\n",
    "\n",
    "def converse(prompt, messages=None, \n",
    "\t\t\t model=\"gpt-3.5-turbo\", \n",
    "\t\t\t max_tokens=4000,\n",
    "\t\t\t temperature=0, \n",
    "\t\t\t top_p=1, \n",
    "\t\t\t frequency_penalty=0,\n",
    "\t\t\t presence_penalty=0):\n",
    "\t\n",
    "    # Add the user's message to the list of messages\n",
    "    if messages is None:\n",
    "        messages = []\n",
    "\n",
    "    messages.append({\"role\": \"user\", \"content\": prompt})\n",
    "\n",
    "    response = client.chat.completions.create(\n",
    "                model=model,\n",
    "\t\tmessages=messages,\n",
    "\t\ttemperature=temperature,\n",
    "\t\tmax_tokens=max_tokens,\n",
    "\t\ttop_p=top_p,\n",
    "\t\tfrequency_penalty=frequency_penalty,\n",
    "\t\tpresence_penalty=presence_penalty).choices[0].message.content\n",
    "\n",
    "    # Add the assistant's message to the list of messages\n",
    "    messages.append({\"role\": \"assistant\", \"content\": response})\n",
    "\n",
    "    return response, messages\n"
   ],
   "metadata": {
    "collapsed": false,
    "ExecuteTime": {
     "end_time": "2024-09-15T02:25:00.794593Z",
     "start_time": "2024-09-15T02:25:00.759607Z"
    }
   },
   "outputs": [],
   "execution_count": 2
  },
  {
   "metadata": {
    "ExecuteTime": {
     "end_time": "2024-09-15T02:28:46.252289Z",
     "start_time": "2024-09-15T02:28:45.181817Z"
    }
   },
   "cell_type": "code",
   "source": [
    "messages=[]\n",
    "\n",
    "prompt=\"\"\"We will be playing a game called Mastermind, where there are two roles: a participant and a Quizmaster. You will be the participant, and I will take on the role of the Quizmaster.\"\"\"\n",
    "\n",
    "response, messages = converse(prompt, messages)\n",
    "print(response)"
   ],
   "outputs": [
    {
     "name": "stdout",
     "output_type": "stream",
     "text": [
      "Great! Let's get started with the game. I will ask you a series of questions on various topics and you will try to answer them to the best of your ability. Are you ready to begin?\n"
     ]
    }
   ],
   "execution_count": 4
  },
  {
   "metadata": {
    "ExecuteTime": {
     "end_time": "2024-09-15T02:33:59.536428Z",
     "start_time": "2024-09-15T02:33:58.765689Z"
    }
   },
   "cell_type": "code",
   "source": [
    "prompt=\"\"\"\n",
    "There are several rules to this game, and I will explain them all. The Quizmaster asks the participant to choose a specialized topic. Once the participant selects a topic, the Quizmaster generates three questions related to that topic. The Quizmaster then asks each question one at a time, evaluating the participant's answers and keeping track of how many are correct.\n",
    "\"\"\"\n",
    "response, messages = converse(prompt, messages)\t\n",
    "print(response)"
   ],
   "outputs": [
    {
     "name": "stdout",
     "output_type": "stream",
     "text": [
      "Got it! I understand the rules of the game. Please go ahead and choose a topic of specialty for me to generate questions on.\n"
     ]
    }
   ],
   "execution_count": 5
  },
  {
   "metadata": {
    "ExecuteTime": {
     "end_time": "2024-09-15T02:37:22.407094Z",
     "start_time": "2024-09-15T02:37:21.144525Z"
    }
   },
   "cell_type": "code",
   "source": [
    "prompt = \"\"\"There are additional rules to the game. At the end of the \"special topic\" round, the participant receives a score out of 3. The second and final round is the \"general topic\" round, where the Quizmaster asks 3 general trivia questions from \"safe for work\" topics. The process is the same: one question at a time, with answers adjudicated and tracked. The game does not start until you say \"START PLAY.\" Please confirm that I have understood the rules correctly.\"\"\"\n",
    "response, messages = converse(prompt, messages)\n",
    "print(response)\n"
   ],
   "outputs": [
    {
     "name": "stdout",
     "output_type": "stream",
     "text": [
      "Thank you for explaining the additional rules. I understand that there will be two rounds - a \"special topic\" round where I choose a topic and answer 3 questions, and a \"general topic\" round with 3 general trivia questions. I will keep track of the score for each round. I will wait for you to say \"START PLAY\" before we begin the game.\n"
     ]
    }
   ],
   "execution_count": 6
  },
  {
   "metadata": {
    "ExecuteTime": {
     "end_time": "2024-09-15T02:39:55.218246Z",
     "start_time": "2024-09-15T02:39:54.057014Z"
    }
   },
   "cell_type": "code",
   "source": [
    "prompt = \"\"\"When asking a question, prefix it with \"Quizmaster says:\". The participant can say \"pass\" to skip a question and return to it later within the round. After all questions are answered, the Quizmaster will provide the participant with their final score out of 6.\"\"\"\n",
    "\n",
    "response, messages = converse(prompt, messages)\n",
    "print(response)"
   ],
   "outputs": [
    {
     "name": "stdout",
     "output_type": "stream",
     "text": [
      "Understood. I will prefix each question with \"Quizmaster says:\" and the contestant can say \"pass\" if needed. I will keep track of the score and inform the contestant of their final score out of 6 at the end of the game. I am ready to begin whenever you say \"START PLAY\".\n"
     ]
    }
   ],
   "execution_count": 7
  },
  {
   "metadata": {
    "ExecuteTime": {
     "end_time": "2024-09-15T02:40:38.614039Z",
     "start_time": "2024-09-15T02:40:35.420966Z"
    }
   },
   "cell_type": "code",
   "source": [
    "prompt = \"List all the rules of this game you understood\"\n",
    "response, messages = converse(prompt, messages)\n",
    "print(response)"
   ],
   "outputs": [
    {
     "name": "stdout",
     "output_type": "stream",
     "text": [
      "1. The game consists of two rounds - a \"special topic\" round and a \"general topic\" round.\n",
      "2. In the \"special topic\" round, the contestant chooses a topic and answers 3 questions on that topic.\n",
      "3. The quizmaster will ask the questions one at a time and keep track of the score out of 3 for the \"special topic\" round.\n",
      "4. In the \"general topic\" round, the quizmaster asks 3 general trivia questions from \"safe for work\" topic areas.\n",
      "5. The contestant can say \"pass\" and come back to a question later in the round.\n",
      "6. The quizmaster will prefix each question with \"Quizmaster says:\".\n",
      "7. At the end of the game, the quizmaster will inform the contestant of their final score out of 6.\n",
      "\n",
      "I am ready to begin the game whenever you say \"START PLAY\".\n"
     ]
    }
   ],
   "execution_count": 8
  },
  {
   "cell_type": "code",
   "source": [
    "prompt = \"\"\"START PLAY\"\"\"\n",
    "response, messages = converse(prompt, messages)\n",
    "print(response)\n"
   ],
   "metadata": {
    "collapsed": false,
    "ExecuteTime": {
     "end_time": "2024-09-15T02:41:45.154200Z",
     "start_time": "2024-09-15T02:41:44.334622Z"
    }
   },
   "outputs": [
    {
     "name": "stdout",
     "output_type": "stream",
     "text": [
      "Great! Let's begin with the \"special topic\" round. Please choose a topic of specialty for me to generate questions on.\n"
     ]
    }
   ],
   "execution_count": 9
  },
  {
   "metadata": {
    "ExecuteTime": {
     "end_time": "2024-09-15T02:42:30.246203Z",
     "start_time": "2024-09-15T02:42:28.090635Z"
    }
   },
   "cell_type": "code",
   "source": [
    "prompt = \"\"\"Harry Potter\"\"\"\n",
    "response, messages = converse(prompt, messages)\n",
    "print(response)#%% md\n"
   ],
   "outputs": [
    {
     "name": "stdout",
     "output_type": "stream",
     "text": [
      "Great choice! Here are your 3 Harry Potter questions:\n",
      "\n",
      "1. Quizmaster says: What is the name of the three-headed dog that guards the Philosopher's Stone in the first Harry Potter book?\n",
      "2. Quizmaster says: What is the name of the house elf who serves the Malfoy family in the Harry Potter series?\n",
      "3. Quizmaster says: What is the name of the magical object that shows the location of all seven Horcruxes in the Harry Potter series?\n",
      "\n",
      "Please answer each question to the best of your ability.\n"
     ]
    }
   ],
   "execution_count": 10
  },
  {
   "cell_type": "code",
   "source": [
    "prompt = \"\"\"You should not ask all the questions at the same time. You should give only one question at a time. once I answer you should ask the next question.\"\"\"\n",
    "response, messages = converse(prompt, messages)\n",
    "print(response)"
   ],
   "metadata": {
    "collapsed": false,
    "ExecuteTime": {
     "end_time": "2024-09-15T02:45:07.107970Z",
     "start_time": "2024-09-15T02:45:06.041520Z"
    }
   },
   "outputs": [
    {
     "name": "stdout",
     "output_type": "stream",
     "text": [
      "Apologies for the oversight. Let's proceed with the questions one at a time.\n",
      "\n",
      "1. Quizmaster says: What is the name of the three-headed dog that guards the Philosopher's Stone in the first Harry Potter book?\n"
     ]
    }
   ],
   "execution_count": 11
  },
  {
   "metadata": {
    "ExecuteTime": {
     "end_time": "2024-09-15T03:22:07.224956Z",
     "start_time": "2024-09-15T03:22:06.139534Z"
    }
   },
   "cell_type": "code",
   "source": [
    "prompt = \"START PLAY\"\n",
    "response, messages = converse(prompt, messages)\n",
    "print(response)"
   ],
   "outputs": [
    {
     "name": "stdout",
     "output_type": "stream",
     "text": [
      "I'm ready to play the game. Let's begin with the \"special topic\" round. Please choose a topic for me to generate questions on.\n"
     ]
    }
   ],
   "execution_count": 35
  },
  {
   "metadata": {
    "ExecuteTime": {
     "end_time": "2024-09-15T03:28:39.710451Z",
     "start_time": "2024-09-15T03:28:38.456201Z"
    }
   },
   "cell_type": "code",
   "source": [
    "prompt = \"India\"\n",
    "response, messages = converse(prompt, messages)\n",
    "print(response)"
   ],
   "outputs": [
    {
     "name": "stdout",
     "output_type": "stream",
     "text": [
      "Great choice! Here are your 3 questions on the topic of India:\n",
      "\n",
      "1. Quizmaster says: What is the capital city of India?\n",
      "\n"
     ]
    }
   ],
   "execution_count": 36
  },
  {
   "metadata": {
    "ExecuteTime": {
     "end_time": "2024-09-15T03:28:55.709254Z",
     "start_time": "2024-09-15T03:28:54.569444Z"
    }
   },
   "cell_type": "code",
   "source": [
    "prompt = \"Delhi\"\n",
    "response, messages = converse(prompt, messages)\n",
    "print(response)"
   ],
   "outputs": [
    {
     "name": "stdout",
     "output_type": "stream",
     "text": [
      "Correct! Delhi is indeed the capital city of India. Well done!\n",
      "\n",
      "Moving on to the next question:\n",
      "\n",
      "2. Quizmaster says: Which river is considered the holiest river in India?\n",
      "\n"
     ]
    }
   ],
   "execution_count": 37
  },
  {
   "metadata": {
    "ExecuteTime": {
     "end_time": "2024-09-15T03:29:18.087491Z",
     "start_time": "2024-09-15T03:29:17.242589Z"
    }
   },
   "cell_type": "code",
   "source": [
    "prompt = \"Pass\"\n",
    "response, messages = converse(prompt, messages)\n",
    "print(response)\n"
   ],
   "outputs": [
    {
     "name": "stdout",
     "output_type": "stream",
     "text": [
      "No problem! We will come back to that question later. Let's move on to the next question:\n",
      "\n",
      "3. Quizmaster says: Who is known as the Father of the Nation in India?\n"
     ]
    }
   ],
   "execution_count": 38
  },
  {
   "metadata": {
    "ExecuteTime": {
     "end_time": "2024-09-15T03:29:44.469099Z",
     "start_time": "2024-09-15T03:29:43.529562Z"
    }
   },
   "cell_type": "code",
   "source": [
    "prompt = \"Nehuru\"\n",
    "response, messages = converse(prompt, messages)\n",
    "print(response)"
   ],
   "outputs": [
    {
     "name": "stdout",
     "output_type": "stream",
     "text": [
      "The correct answer is Mahatma Gandhi. \n",
      "\n",
      "Now, let's go back to the question you passed on:\n",
      "\n",
      "2. Quizmaster says: Which river is considered the holiest river in India?\n"
     ]
    }
   ],
   "execution_count": 39
  },
  {
   "metadata": {
    "ExecuteTime": {
     "end_time": "2024-09-15T03:30:02.283410Z",
     "start_time": "2024-09-15T03:30:00.856176Z"
    }
   },
   "cell_type": "code",
   "source": [
    "prompt = \"Ganga\"\n",
    "response, messages = converse(prompt, messages)\n",
    "print(response)"
   ],
   "outputs": [
    {
     "name": "stdout",
     "output_type": "stream",
     "text": [
      "Correct! The Ganges River is indeed considered the holiest river in India. Well done!\n",
      "\n",
      "Thank you for playing the \"special topic\" round. You answered 2 out of 3 questions correctly. \n",
      "\n",
      "Now, let's move on to the \"general topic\" round with 3 general trivia questions. \n",
      "\n",
      "1. Quizmaster says: What is the largest ocean on Earth?\n"
     ]
    }
   ],
   "execution_count": 40
  },
  {
   "metadata": {
    "ExecuteTime": {
     "end_time": "2024-09-15T03:30:35.365314Z",
     "start_time": "2024-09-15T03:30:34.342729Z"
    }
   },
   "cell_type": "code",
   "source": [
    "prompt = \"Pacific\"\n",
    "response, messages = converse(prompt, messages)\n",
    "print(response)"
   ],
   "outputs": [
    {
     "name": "stdout",
     "output_type": "stream",
     "text": [
      "Correct! The Pacific Ocean is the largest ocean on Earth. Well done!\n",
      "\n",
      "Moving on to the next question:\n",
      "\n",
      "2. Quizmaster says: Who wrote the play \"Romeo and Juliet\"?\n"
     ]
    }
   ],
   "execution_count": 41
  },
  {
   "metadata": {
    "ExecuteTime": {
     "end_time": "2024-09-15T03:31:17.244178Z",
     "start_time": "2024-09-15T03:31:16.309557Z"
    }
   },
   "cell_type": "code",
   "source": [
    "prompt = \"Stevenson\"\n",
    "response, messages = converse(prompt, messages)\n",
    "print(response)"
   ],
   "outputs": [
    {
     "name": "stdout",
     "output_type": "stream",
     "text": [
      "The correct answer is William Shakespeare. \n",
      "\n",
      "Now, onto the final question:\n",
      "\n",
      "3. Quizmaster says: What is the capital city of France?\n"
     ]
    }
   ],
   "execution_count": 42
  },
  {
   "metadata": {
    "ExecuteTime": {
     "end_time": "2024-09-15T03:31:50.008449Z",
     "start_time": "2024-09-15T03:31:48.234497Z"
    }
   },
   "cell_type": "code",
   "source": [
    "prompt = \"Paris\"\n",
    "response, messages = converse(prompt, messages)\n",
    "print(response)"
   ],
   "outputs": [
    {
     "name": "stdout",
     "output_type": "stream",
     "text": [
      "Correct! Paris is the capital city of France. Well done!\n",
      "\n",
      "Thank you for playing QuizMaster! Let's tally up your score. \n",
      "\n",
      "In the \"special topic\" round, you answered 2 out of 3 questions correctly. \n",
      "In the \"general topic\" round, you answered 2 out of 3 questions correctly. \n",
      "\n",
      "Your final score is 4 out of 6. Well done! Thank you for playing the game. If you'd like to play again or have any feedback, feel free to let me know.\n"
     ]
    }
   ],
   "execution_count": 43
  },
  {
   "metadata": {},
   "cell_type": "code",
   "outputs": [],
   "execution_count": null,
   "source": ""
  }
 ],
 "metadata": {
  "kernelspec": {
   "display_name": "Python 3",
   "language": "python",
   "name": "python3"
  },
  "language_info": {
   "codemirror_mode": {
    "name": "ipython",
    "version": 2
   },
   "file_extension": ".py",
   "mimetype": "text/x-python",
   "name": "python",
   "nbconvert_exporter": "python",
   "pygments_lexer": "ipython2",
   "version": "2.7.6"
  }
 },
 "nbformat": 4,
 "nbformat_minor": 0
}
