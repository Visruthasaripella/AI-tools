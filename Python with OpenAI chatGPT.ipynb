{
 "cells": [
  {
   "cell_type": "markdown",
   "source": [
    "# Project 1: Learning Python\n",
    "\n",
    "For this assignment, let's work with ChatGPT to create and refine a python method.\n",
    "\n",
    "You will submit this assignment by downloading this notebook to Visual Code or PyCharm,\n",
    "running the cells, and then uploading it to Canvas.\n",
    "\n",
    "To download the project notebook: \n",
    "* use File | Download in this notebook menubar (above) and choose Notebook format (.ipynb).\n",
    "\n",
    "To run the project notebook:\n",
    "* load the notebook into Visual Code or PyCharm\n",
    "* install the OpenAI python package: \n",
    "  * create a requirements.txt file with the line ```openai==1.42.0```, and use PyCharm or VS Code to install the openapi package. \n",
    "* run the first two cells to establish your OpenAI connection\n",
    "* run the remaining cells to interact with ChatGPT\n",
    "\n",
    "To save the project notebook:\n",
    "* Save the notebook using PyCharm or Visual Studio code.\n",
    "* Test that the file contains the output code by closing and re-opening the file in PyCharm or Visual Studio code.\n",
    "* \n",
    "\n",
    "To upload the project notebook:\n",
    "* Open the Canvas Project page\n",
    "* Upload your file and click on the Submit Assignment button.\n"
   ],
   "metadata": {
    "collapsed": false
   },
   "id": "efca965bb19b3145"
  },
  {
   "cell_type": "code",
   "source": [
    "from openai import OpenAI\n",
    "\n",
    "client = OpenAI(\n",
    "    # This is the default and can be omitted\n",
    "\tbase_url = 'http://aitools.cs.vt.edu:7860/openai/v1',\n",
    "    api_key=\"aitools\"\n",
    ")\n"
   ],
   "metadata": {
    "collapsed": false,
    "ExecuteTime": {
     "end_time": "2024-08-29T16:15:38.024480Z",
     "start_time": "2024-08-29T16:15:37.932059Z"
    }
   },
   "id": "2d042e0111608da7",
   "outputs": [],
   "execution_count": 16
  },
  {
   "cell_type": "code",
   "source": [
    "def converse(prompt, messages=None, model=\"gpt-3.5-turbo\", max_tokens=500):\n",
    "    # Add the user's message to the list of messages\n",
    "    if messages is None:\n",
    "        messages = []\n",
    "\n",
    "    messages.append({\"role\": \"user\", \"content\": prompt})\n",
    "\n",
    "    response = client.chat.completions.create(\n",
    "                messages=messages,\n",
    "                model=model,\n",
    "                max_tokens=max_tokens).choices[0].message.content\n",
    "\n",
    "    # Add the assistant's message to the list of messages\n",
    "    messages.append({\"role\": \"assistant\", \"content\": response})\n",
    "\n",
    "    return response, messages"
   ],
   "metadata": {
    "collapsed": false,
    "ExecuteTime": {
     "end_time": "2024-08-29T16:15:39.898102Z",
     "start_time": "2024-08-29T16:15:39.892399Z"
    }
   },
   "id": "d5da2bf4d57275ec",
   "outputs": [],
   "execution_count": 17
  },
  {
   "cell_type": "code",
   "source": [
    "messages = []\n",
    "prompt=f\"\"\"\n",
    "Write me a python program that takes an integer as input, \n",
    "representing a balance to make change for.  The purpose of \n",
    "the program is to work out how many 100, 50, 20, 10, 5 and 1 \n",
    "dollar notes are required to add up to the provided total.  \n",
    "Do NOT use iteration in your solution.\n",
    "\"\"\"\n",
    "response, messages = converse(prompt, messages)\n",
    "print(f\"You: {prompt}\\nChatGPT: {response}\")\n",
    "\n"
   ],
   "metadata": {
    "collapsed": false,
    "ExecuteTime": {
     "end_time": "2024-08-29T16:19:07.351030Z",
     "start_time": "2024-08-29T16:19:01.579071Z"
    }
   },
   "id": "initial_id",
   "outputs": [
    {
     "name": "stdout",
     "output_type": "stream",
     "text": [
      "You: \n",
      "Write me a python program that takes an integer as input, \n",
      "representing a balance to make change for.  The purpose of \n",
      "the program is to work out how many 100, 50, 20, 10, 5 and 1 \n",
      "dollar notes are required to add up to the provided total.  \n",
      "Do NOT use iteration in your solution.\n",
      "\n",
      "ChatGPT: ```python\n",
      "def make_change(balance):\n",
      "    hundred_notes = balance // 100\n",
      "    balance %= 100\n",
      "    \n",
      "    fifty_notes = balance // 50\n",
      "    balance %= 50\n",
      "    \n",
      "    twenty_notes = balance // 20\n",
      "    balance %= 20\n",
      "    \n",
      "    ten_notes = balance // 10\n",
      "    balance %= 10\n",
      "\n",
      "    five_notes = balance // 5\n",
      "    balance %= 5\n",
      "    \n",
      "    one_notes = balance // 1\n",
      "    \n",
      "    return hundred_notes, fifty_notes, twenty_notes, ten_notes, five_notes, one_notes\n",
      "\n",
      "# Get input from user\n",
      "balance = int(input(\"Enter your balance: \"))\n",
      "\n",
      "# Calculate and display the number of notes needed\n",
      "hundred_notes, fifty_notes, twenty_notes, ten_notes, five_notes, one_notes = make_change(balance)\n",
      "\n",
      "print(\"100 dollar notes:\", hundred_notes)\n",
      "print(\"50 dollar notes:\", fifty_notes)\n",
      "print(\"20 dollar notes:\", twenty_notes)\n",
      "print(\"10 dollar notes:\", ten_notes)\n",
      "print(\"5 dollar notes:\", five_notes)\n",
      "print(\"1 dollar notes:\", one_notes)\n",
      "```\n",
      "\n",
      "This program takes an integer input representing a balance and calculates the number of each denomination of notes needed to add up to that balance without using iteration.\n"
     ]
    }
   ],
   "execution_count": 21
  },
  {
   "cell_type": "code",
   "source": [
    "prompt=\"Make that problem harder requiring iteration in the program.\"\n",
    "response, messages = converse(prompt, messages)\n",
    "print(f\"You: {prompt}\\nChatGPT: {response}\")\n"
   ],
   "metadata": {
    "collapsed": false,
    "ExecuteTime": {
     "end_time": "2024-08-29T16:18:49.530401Z",
     "start_time": "2024-08-29T16:18:46.228596Z"
    }
   },
   "id": "2c0ebccc466605ea",
   "outputs": [
    {
     "name": "stdout",
     "output_type": "stream",
     "text": [
      "You: Make that problem harder requiring iteration in the program.\n",
      "ChatGPT: ```python\n",
      "def make_change(balance):\n",
      "    notes = [100, 50, 20, 10, 5, 1]\n",
      "    result = {}\n",
      "    \n",
      "    for note in notes:\n",
      "        count = balance // note\n",
      "        balance %= note\n",
      "        result[note] = count\n",
      "    \n",
      "    return result\n",
      "\n",
      "balance = int(input(\"Enter the balance to make change for: \"))\n",
      "change = make_change(balance)\n",
      "\n",
      "for note, count in change.items():\n",
      "    print(f\"{note} dollar notes:\", count)\n",
      "```\n",
      "\n",
      "In this updated version, we use a dictionary to store the number of each type of dollar note required to make change for the given balance amount. We iterate through the list of note denominations using a for loop and calculate the count of each note accordingly. Finally, we print out the results using the items() method of the dictionary.\n"
     ]
    }
   ],
   "execution_count": 20
  },
  {
   "cell_type": "code",
   "source": [],
   "metadata": {
    "collapsed": false
   },
   "id": "35f341870063b4b4",
   "outputs": [],
   "execution_count": null
  }
 ],
 "metadata": {
  "kernelspec": {
   "display_name": "Python 3",
   "language": "python",
   "name": "python3"
  },
  "language_info": {
   "codemirror_mode": {
    "name": "ipython",
    "version": 2
   },
   "file_extension": ".py",
   "mimetype": "text/x-python",
   "name": "python",
   "nbconvert_exporter": "python",
   "pygments_lexer": "ipython2",
   "version": "2.7.6"
  }
 },
 "nbformat": 4,
 "nbformat_minor": 5
}
